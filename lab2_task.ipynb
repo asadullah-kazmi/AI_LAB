{
  "nbformat": 4,
  "nbformat_minor": 0,
  "metadata": {
    "colab": {
      "provenance": [],
      "collapsed_sections": [
        "F7qgf0cWDYwk",
        "9uWYXf1nDbiW",
        "kon8hiYUDlQm"
      ],
      "toc_visible": true
    },
    "kernelspec": {
      "name": "python3",
      "display_name": "Python 3"
    },
    "language_info": {
      "name": "python"
    }
  },
  "cells": [
    {
      "cell_type": "code",
      "execution_count": null,
      "metadata": {
        "id": "ii1QTJs7CPAf"
      },
      "outputs": [],
      "source": []
    },
    {
      "cell_type": "markdown",
      "source": [
        "# Matplotlib"
      ],
      "metadata": {
        "id": "8CBPQ9fmDSgv"
      }
    },
    {
      "cell_type": "markdown",
      "source": [
        "# Numpy"
      ],
      "metadata": {
        "id": "mh4n9ovoDV0k"
      }
    },
    {
      "cell_type": "markdown",
      "source": [
        "# List\n"
      ],
      "metadata": {
        "id": "F7qgf0cWDYwk"
      }
    },
    {
      "cell_type": "code",
      "source": [
        "my_list = [1,2,3,4,5,6,7,8,9,10]\n",
        "print(my_list)\n",
        "\n",
        "list_sum = sum(my_list)\n",
        "list_max = max(my_list)\n",
        "list_min = min(my_list)\n",
        "\n",
        "print(f\"Sum of the list: {list_sum}\")\n",
        "print(f\"Maximum value in the list: {list_max}\")\n",
        "print(f\"Minimum value in the list: {list_min}\")\n",
        "\n",
        "my_list.append(11)\n",
        "print(my_list)\n",
        "\n",
        "my_list.remove(10)\n",
        "print(my_list)\n",
        "\n",
        "my_list.sort()\n",
        "print(my_list)\n",
        "\n",
        "my_list.sort(reverse=True)\n",
        "print(my_list)\n"
      ],
      "metadata": {
        "colab": {
          "base_uri": "https://localhost:8080/"
        },
        "id": "561Nzz5GK7y2",
        "outputId": "b7806905-0515-47a5-c0e8-183b262e5347"
      },
      "execution_count": 11,
      "outputs": [
        {
          "output_type": "stream",
          "name": "stdout",
          "text": [
            "[1, 2, 3, 4, 5, 6, 7, 8, 9, 10]\n",
            "Sum of the list: 55\n",
            "Maximum value in the list: 10\n",
            "Minimum value in the list: 1\n",
            "[1, 2, 3, 4, 5, 6, 7, 8, 9, 10, 11]\n",
            "[1, 2, 3, 4, 5, 6, 7, 8, 9, 11]\n",
            "[1, 2, 3, 4, 5, 6, 7, 8, 9, 11]\n",
            "[11, 9, 8, 7, 6, 5, 4, 3, 2, 1]\n"
          ]
        }
      ]
    },
    {
      "cell_type": "markdown",
      "source": [
        "# Tuple"
      ],
      "metadata": {
        "id": "9uWYXf1nDbiW"
      }
    },
    {
      "cell_type": "code",
      "source": [
        "my_tuple = (\"apple\", \"banana\", \"cherry\", \"date\", \"elderberry\")\n",
        "print(my_tuple)\n",
        "\n",
        "print('Second Element',my_tuple[1])\n",
        "print('Last Element',my_tuple[-1])\n",
        "\n",
        "my_list = list(my_tuple)\n",
        "my_list[2] = 'orange'\n",
        "print('Modified List',my_list)\n",
        "\n",
        "my_tuple = tuple(my_list)\n",
        "print('Modified Tuple',my_tuple)\n"
      ],
      "metadata": {
        "colab": {
          "base_uri": "https://localhost:8080/"
        },
        "id": "dB-Nm7zjMeLn",
        "outputId": "8026529d-52bd-4ee3-bfc9-2c3e5bfceee5"
      },
      "execution_count": 18,
      "outputs": [
        {
          "output_type": "stream",
          "name": "stdout",
          "text": [
            "('apple', 'banana', 'cherry', 'date', 'elderberry')\n",
            "Second Element banana\n",
            "Last Element elderberry\n",
            "Modified List ['apple', 'banana', 'orange', 'date', 'elderberry']\n",
            "Modified Tuple ('apple', 'banana', 'orange', 'date', 'elderberry')\n"
          ]
        }
      ]
    },
    {
      "cell_type": "markdown",
      "source": [
        "# Set"
      ],
      "metadata": {
        "id": "kon8hiYUDlQm"
      }
    },
    {
      "cell_type": "code",
      "source": [
        "set1 = {1, 2, 3, 4, 5}\n",
        "set2 = {4, 5, 6, 7, 8}\n",
        "\n",
        "print(\"Set 1:\", set1)\n",
        "print(\"Set 2:\", set2)\n",
        "\n",
        "# Common elements\n",
        "print(\"Common elements:\", set1.intersection(set2))\n",
        "\n",
        "# Unique elements in set1\n",
        "print(\"Unique elements in Set 1:\", set1.difference(set2))\n",
        "\n",
        "# Unique elements in set2\n",
        "print(\"Unique elements in Set 2:\", set2.difference(set1))\n",
        "\n",
        "# All unique elements\n",
        "print(\"All unique elements:\", set1.symmetric_difference(set2))\n",
        "\n",
        "# Union of sets\n",
        "print(\"Union of Set 1 and Set 2:\", set1.union(set2))\n",
        "\n",
        "# Add an element to set1\n",
        "set1.add(9)\n",
        "print(\"Set 1 after adding 9:\", set1)\n",
        "\n",
        "# Remove an element from set1\n",
        "set1.remove(1)\n",
        "print(\"Set 1 after removing 1:\", set1)"
      ],
      "metadata": {
        "colab": {
          "base_uri": "https://localhost:8080/"
        },
        "id": "NRRYSUrFT1WV",
        "outputId": "5ddbda64-8984-4324-d766-8e2e13ab9b74"
      },
      "execution_count": 20,
      "outputs": [
        {
          "output_type": "stream",
          "name": "stdout",
          "text": [
            "Set 1: {1, 2, 3, 4, 5}\n",
            "Set 2: {4, 5, 6, 7, 8}\n",
            "Common elements: {4, 5}\n",
            "Unique elements in Set 1: {1, 2, 3}\n",
            "Unique elements in Set 2: {8, 6, 7}\n",
            "All unique elements: {1, 2, 3, 6, 7, 8}\n",
            "Union of Set 1 and Set 2: {1, 2, 3, 4, 5, 6, 7, 8}\n",
            "Set 1 after adding 9: {1, 2, 3, 4, 5, 9}\n",
            "Set 1 after removing 1: {2, 3, 4, 5, 9}\n"
          ]
        }
      ]
    },
    {
      "cell_type": "markdown",
      "source": [
        "# Dictionary"
      ],
      "metadata": {
        "id": "cnL5fQ1-DmZf"
      }
    },
    {
      "cell_type": "code",
      "source": [
        "student_marks = {\n",
        "    \"Alice\": 95,\n",
        "    \"Bob\": 88,\n",
        "    \"Charlie\": 76,\n",
        "    \"David\": 92,\n",
        "    \"Eve\": 85\n",
        "}\n",
        "print(student_marks)\n",
        "\n",
        "student_marks[\"Bob\"] = 90\n",
        "print(\"Dictionary after updating Bob's marks:\", student_marks)"
      ],
      "metadata": {
        "colab": {
          "base_uri": "https://localhost:8080/"
        },
        "id": "W79rG21IW4ZM",
        "outputId": "9348734b-0e38-445b-8d15-ac26349b9a2c"
      },
      "execution_count": 22,
      "outputs": [
        {
          "output_type": "stream",
          "name": "stdout",
          "text": [
            "{'Alice': 95, 'Bob': 88, 'Charlie': 76, 'David': 92, 'Eve': 85}\n",
            "Dictionary after updating Bob's marks: {'Alice': 95, 'Bob': 90, 'Charlie': 76, 'David': 92, 'Eve': 85}\n"
          ]
        }
      ]
    }
  ]
}