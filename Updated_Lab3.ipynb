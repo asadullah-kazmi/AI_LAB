{
  "nbformat": 4,
  "nbformat_minor": 0,
  "metadata": {
    "colab": {
      "provenance": [],
      "toc_visible": true
    },
    "kernelspec": {
      "name": "python3",
      "display_name": "Python 3"
    },
    "language_info": {
      "name": "python"
    }
  },
  "cells": [
    {
      "cell_type": "code",
      "execution_count": null,
      "metadata": {
        "id": "DjzzW3kJEoxI"
      },
      "outputs": [],
      "source": []
    },
    {
      "cell_type": "markdown",
      "source": [
        "# **Dictionary**"
      ],
      "metadata": {
        "id": "uG5O1c9DGAa_"
      }
    },
    {
      "cell_type": "code",
      "source": [
        "from collections import deque\n",
        "\n",
        "def dfs(graph, start_node, visited=None):\n",
        "    if visited is None:\n",
        "        visited = set()\n",
        "    visited.add(start_node)\n",
        "    print(start_node, end=\" \")\n",
        "\n",
        "    for neighbor in graph.get(start_node, []):\n",
        "        if neighbor not in visited:\n",
        "            dfs(graph, neighbor, visited)\n",
        "\n",
        "def bfs(graph, start_node):\n",
        "    visited = set()\n",
        "    queue = deque([start_node])\n",
        "    visited.add(start_node)\n",
        "\n",
        "    while queue:\n",
        "        current_node = queue.popleft()\n",
        "        print(current_node, end=\" \")\n",
        "\n",
        "        for neighbor in graph.get(current_node, []):\n",
        "            if neighbor not in visited:\n",
        "                visited.add(neighbor)\n",
        "                queue.append(neighbor)\n",
        "\n",
        "graph = {\n",
        "    'Karachi': ['Hyderabad'],\n",
        "    'Hyderabad': ['Karachi', 'Abbottabad'],\n",
        "    'Abbottabad': ['Hyderabad', 'Gilgit'],\n",
        "    'Gilgit': ['Abbottabad', 'Lahore'],\n",
        "    'Lahore': ['Gilgit', 'Islamabad'],\n",
        "    'Islamabad': ['Lahore', 'Mansehra'],\n",
        "    'Mansehra': ['Islamabad']\n",
        "}\n",
        "\n",
        "print(\"DFS traversal:\")\n",
        "dfs(graph, 'Karachi')\n",
        "print(\"\\nBFS traversal:\")\n",
        "bfs(graph, 'Karachi')"
      ],
      "metadata": {
        "colab": {
          "base_uri": "https://localhost:8080/"
        },
        "id": "nefMnyi_GG2P",
        "outputId": "991c4398-c644-4cc8-b2ee-2097783aee3b"
      },
      "execution_count": 5,
      "outputs": [
        {
          "output_type": "stream",
          "name": "stdout",
          "text": [
            "DFS traversal:\n",
            "Karachi Hyderabad Abbottabad Gilgit Lahore Islamabad Mansehra \n",
            "BFS traversal:\n",
            "Karachi Hyderabad Abbottabad Gilgit Lahore Islamabad Mansehra "
          ]
        }
      ]
    }
  ]
}